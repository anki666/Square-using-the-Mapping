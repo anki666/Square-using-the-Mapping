{
 "cells": [
  {
   "cell_type": "markdown",
   "id": "b1a53523",
   "metadata": {},
   "source": [
    "## Write a Python program to square the elements of a list using map() function."
   ]
  },
  {
   "cell_type": "code",
   "execution_count": 10,
   "id": "8bde4552",
   "metadata": {},
   "outputs": [
    {
     "name": "stdout",
     "output_type": "stream",
     "text": [
      "original numbers: [4, 5, 2, 9]\n",
      "Square the elements of the original numbers():\n",
      "[16, 25, 4, 81]\n"
     ]
    }
   ],
   "source": [
    "def square_number(n):\n",
    "\n",
    "    return n*n\n",
    "\n",
    "numbers = [4,5,2,9]\n",
    "\n",
    "print('original numbers:',numbers)\n",
    "\n",
    "result = map(square_number, numbers)\n",
    "\n",
    "print(\"Square the elements of the original numbers():\")\n",
    "\n",
    "print(list(result))\n",
    "\n",
    "    \n",
    "    "
   ]
  },
  {
   "cell_type": "code",
   "execution_count": null,
   "id": "5fc17c19",
   "metadata": {},
   "outputs": [],
   "source": []
  }
 ],
 "metadata": {
  "kernelspec": {
   "display_name": "Python 3 (ipykernel)",
   "language": "python",
   "name": "python3"
  },
  "language_info": {
   "codemirror_mode": {
    "name": "ipython",
    "version": 3
   },
   "file_extension": ".py",
   "mimetype": "text/x-python",
   "name": "python",
   "nbconvert_exporter": "python",
   "pygments_lexer": "ipython3",
   "version": "3.7.3"
  }
 },
 "nbformat": 4,
 "nbformat_minor": 5
}
